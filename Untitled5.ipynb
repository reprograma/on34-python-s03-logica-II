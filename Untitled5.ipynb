{
  "nbformat": 4,
  "nbformat_minor": 0,
  "metadata": {
    "colab": {
      "provenance": [],
      "authorship_tag": "ABX9TyPDRFm/crsSpaUzDqoetC8t",
      "include_colab_link": true
    },
    "kernelspec": {
      "name": "python3",
      "display_name": "Python 3"
    },
    "language_info": {
      "name": "python"
    }
  },
  "cells": [
    {
      "cell_type": "markdown",
      "metadata": {
        "id": "view-in-github",
        "colab_type": "text"
      },
      "source": [
        "<a href=\"https://colab.research.google.com/github/Lupaes/on34-python-s03-logica-II_-Atividade-de-casa/blob/main/Untitled5.ipynb\" target=\"_parent\"><img src=\"https://colab.research.google.com/assets/colab-badge.svg\" alt=\"Open In Colab\"/></a>"
      ]
    },
    {
      "cell_type": "code",
      "execution_count": 1,
      "metadata": {
        "colab": {
          "base_uri": "https://localhost:8080/"
        },
        "id": "2OOmby7NHO01",
        "outputId": "013c5a18-c328-432b-dc18-819a62193c22"
      },
      "outputs": [
        {
          "output_type": "stream",
          "name": "stdout",
          "text": [
            "Adivinhe o numero de 0 a 10. Você tem apenas uma chance de acerta!:20\n",
            "Parabéns você acertou o número: !\n",
            "fim\n"
          ]
        }
      ],
      "source": [
        "numero_sorteado = int(input(\"Adivinhe o numero de 0 a 10. Você tem apenas uma chance de acerta!:\"))\n",
        "if numero_sorteado == 20:\n",
        "  print(\"Parabéns você acertou o número: !\")\n",
        "elif numero_sorteado > 20:\n",
        "  print(\"Você chutou muito alto: \")\n",
        "else:\n",
        "  print(\"Você chutou muito baixo: \")\n",
        "print(\"fim\")"
      ]
    }
  ]
}