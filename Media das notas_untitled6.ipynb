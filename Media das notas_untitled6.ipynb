{
  "nbformat": 4,
  "nbformat_minor": 0,
  "metadata": {
    "colab": {
      "provenance": [],
      "authorship_tag": "ABX9TyNZom/QO9KiXENwGVUHoKte",
      "include_colab_link": true
    },
    "kernelspec": {
      "name": "python3",
      "display_name": "Python 3"
    },
    "language_info": {
      "name": "python"
    }
  },
  "cells": [
    {
      "cell_type": "markdown",
      "metadata": {
        "id": "view-in-github",
        "colab_type": "text"
      },
      "source": [
        "<a href=\"https://colab.research.google.com/github/Lupaes/on34-python-s03-logica-II_-Atividade-de-casa/blob/main/Media%20das%20notas_untitled6.ipynb\" target=\"_parent\"><img src=\"https://colab.research.google.com/assets/colab-badge.svg\" alt=\"Open In Colab\"/></a>"
      ]
    },
    {
      "cell_type": "code",
      "execution_count": null,
      "metadata": {
        "colab": {
          "base_uri": "https://localhost:8080/"
        },
        "id": "pJd8VQ8HLlJL",
        "outputId": "9d847672-c9e0-4ed0-a6e4-c15692685b6f"
      },
      "outputs": [
        {
          "output_type": "stream",
          "name": "stdout",
          "text": [
            "Qual é a nota do 1 bimestre: ?3\n",
            "pontos\n",
            "Qual é a nota do 2 bimestre: ?9\n",
            "pontos\n",
            "6.0\n",
            "Recuperação\n",
            "Qual a nota de recuperação?7\n",
            "Aprovada\n",
            "Fim\n"
          ]
        }
      ],
      "source": [
        "\n",
        "\n",
        "nota1  = float(input(\"Qual é a nota do 1 bimestre: ?\"))\n",
        "print(\"pontos\")\n",
        "nota2 = float(input(\"Qual é a nota do 2 bimestre: ?\"))\n",
        "print(\"pontos\")\n",
        "\n",
        "\n",
        "media_das_notas = (nota1 + nota2) /2\n",
        "print(float(media_das_notas))\n",
        "\n",
        "if media_das_notas >= 7:\n",
        "    print(\"Aprovação\")\n",
        "elif media_das_notas <= 6:\n",
        "     print(\"Recuperação\")\n",
        "     nota_recup = float(input(\"Qual a nota de recuperação?\"))\n",
        "     if nota_recup >= 7:\n",
        "      print(\"Aprovada\")\n",
        "     else:\n",
        "        print(\"Aluna em recuperação reprovada\")\n",
        "else:\n",
        "    print(\"Aluna reprovada\")\n",
        "\n",
        "print(\"Fim\")\n",
        "\n"
      ]
    }
  ]
}